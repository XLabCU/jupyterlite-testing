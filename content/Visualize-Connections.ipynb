{
  "metadata": {
    "kernelspec": {
      "name": "python",
      "display_name": "Python (Pyodide)",
      "language": "python"
    },
    "language_info": {
      "codemirror_mode": {
        "name": "python",
        "version": 3
      },
      "file_extension": ".py",
      "mimetype": "text/x-python",
      "name": "python",
      "nbconvert_exporter": "python",
      "pygments_lexer": "ipython3",
      "version": "3.8"
    }
  },
  "nbformat_minor": 5,
  "nbformat": 4,
  "cells": [
    {
      "id": "6cc45c0a-414a-4cbd-9a79-0164cb23e333",
      "cell_type": "markdown",
      "source": "# Visualize Your Wikilinks\n\nThe first block creates the functions, the second block runs them. If you get a 'file not found' error when it tries to read the wikilinks-index.json, that's because of the way jupterlite stores and accesses files. If you open this site in Chrome, Edge, or Opera, a pre-bundled extension handles those problems. Try in Chrome!",
      "metadata": {}
    },
    {
      "id": "6a876f34-0c25-4e26-85ec-b5d0b9ca1bdb",
      "cell_type": "code",
      "source": "import json\nimport matplotlib.pyplot as plt\nimport networkx as nx\n\ndef load_wikilink_data(filepath):\n    \"\"\"Load the wikilink JSON file.\"\"\"\n    with open(filepath, 'r') as f:\n        return json.load(f)\n\ndef create_graph(data):\n    \"\"\"Create a NetworkX graph from the wikilink data.\"\"\"\n    G = nx.Graph()\n    links = data.get('links', {})\n    \n    for source, targets in links.items():\n        for target in (targets if isinstance(targets, list) else targets.keys()):\n            G.add_edge(source, target)\n    \n    return G\n\ndef show_graph_info(G):\n    \"\"\"Print basic information about the graph.\"\"\"\n    print(f\"Nodes: {len(G.nodes())}\")\n    print(f\"Edges: {len(G.edges())}\")\n    if len(G.nodes()) > 0:\n        print(f\"Average connections: {sum(dict(G.degree()).values()) / len(G.nodes()):.1f}\")\n\ndef plot_graph(G):\n    \"\"\"Create a simple visualization of the graph.\"\"\"\n    plt.figure(figsize=(10, 8))\n    \n    if len(G.nodes()) == 0:\n        plt.text(0.5, 0.5, 'No links found', ha='center', va='center', fontsize=16)\n        plt.xlim(0, 1)\n        plt.ylim(0, 1)\n    else:\n        pos = nx.spring_layout(G)\n        nx.draw(G, pos, with_labels=True, node_color='lightblue', \n                node_size=1000, font_size=10, font_weight='bold')\n    \n    plt.title('WikiLink Graph')\n    plt.axis('off')\n    plt.show()\n\n",
      "metadata": {
        "trusted": true
      },
      "outputs": [
        {
          "name": "stderr",
          "output_type": "stream",
          "text": "Matplotlib is building the font cache; this may take a moment.\n"
        }
      ],
      "execution_count": 1
    },
    {
      "id": "bbc6e6fd-06c6-41c0-a061-63ac444fce6a",
      "cell_type": "code",
      "source": "data = load_wikilink_data('wikilink-index.json')\ngraph = create_graph(data)\nshow_graph_info(graph)\nplot_graph(graph)",
      "metadata": {
        "trusted": true
      },
      "outputs": [],
      "execution_count": null
    },
    {
      "id": "6cb022bb-5830-4cb8-8188-5075e27612ca",
      "cell_type": "code",
      "source": "",
      "metadata": {
        "trusted": true
      },
      "outputs": [],
      "execution_count": null
    }
  ]
}